{
 "cells": [
  {
   "cell_type": "markdown",
   "metadata": {
    "heading_collapsed": true,
    "nbpresent": {
     "id": "e2e6e6d5-d5ef-49c8-bb1e-24d640cb9928"
    }
   },
   "source": [
    "# Import Statements"
   ]
  },
  {
   "cell_type": "code",
   "execution_count": null,
   "metadata": {
    "ExecuteTime": {
     "end_time": "2018-05-04T15:58:50.448832Z",
     "start_time": "2018-05-04T15:58:33.519824Z"
    },
    "hidden": true,
    "nbpresent": {
     "id": "56fd826b-1675-4c87-ae07-d926ddfe5dde"
    }
   },
   "outputs": [],
   "source": [
    "import pandas as pd\n",
    "import numpy as np\n",
    "import matplotlib.pyplot as plt\n",
    "from sklearn.metrics import confusion_matrix, classification_report\n",
    "from sklearn.model_selection import train_test_split\n",
    "from sklearn.preprocessing import StandardScaler\n",
    "from multiprocessing import Pool, cpu_count\n",
    "import keras\n",
    "from keras.models import Sequential, Input, Model\n",
    "from keras.layers import Dense, Conv1D, Conv2D, MaxPooling1D, MaxPooling2D, Flatten, Dropout\n",
    "from keras.layers import BatchNormalization, LSTM, Merge, Concatenate, merge, Reshape\n",
    "from keras.utils import to_categorical\n",
    "from keras.callbacks import ModelCheckpoint, EarlyStopping\n",
    "from keras import regularizers\n",
    "from keras import backend as K\n",
    "from matplotlib.pyplot import imshow\n",
    "from scipy.signal import decimate\n",
    "import pywt\n",
    "from sklearn.metrics import f1_score\n",
    "import seaborn as sn"
   ]
  },
  {
   "cell_type": "markdown",
   "metadata": {
    "heading_collapsed": true,
    "nbpresent": {
     "id": "4ae02363-68a4-4fc7-88a8-0760a60b77e7"
    }
   },
   "source": [
    "# Data Extraction"
   ]
  },
  {
   "cell_type": "code",
   "execution_count": null,
   "metadata": {
    "ExecuteTime": {
     "end_time": "2018-05-04T15:59:21.346587Z",
     "start_time": "2018-05-04T15:59:01.835394Z"
    },
    "hidden": true,
    "nbpresent": {
     "id": "cba557b4-88e4-4514-b843-a9a10aa113e3"
    }
   },
   "outputs": [],
   "source": [
    "pa = pd.read_csv(\"Phones_accelerometer.csv\")\n",
    "# pa=pd.read_csv(\"Phones_gyroscope.csv\")\n",
    "# wa=pd.read_csv(\"Watch_accelerometer.csv\")\n",
    "# wg=pd.read_csv(\"Watch_gyroscope.csv\")\n",
    "print (pa.shape)\n",
    "print(\"Done\")"
   ]
  },
  {
   "cell_type": "code",
   "execution_count": null,
   "metadata": {
    "ExecuteTime": {
     "end_time": "2018-05-04T15:59:30.693045Z",
     "start_time": "2018-05-04T15:59:27.639491Z"
    },
    "hidden": true,
    "nbpresent": {
     "id": "345786db-e817-4950-94bb-2ca3a05a1758"
    },
    "scrolled": false
   },
   "outputs": [],
   "source": [
    "pa = pa[pa['gt'] != 'null']\n",
    "acts = pa['gt'].unique()\n",
    "users = pa['User'].unique()\n",
    "devices = pa['Device'].unique()\n",
    "print(devices)\n",
    "print (acts)\n",
    "print (users)"
   ]
  },
  {
   "cell_type": "code",
   "execution_count": null,
   "metadata": {
    "ExecuteTime": {
     "end_time": "2018-05-04T15:59:38.663543Z",
     "start_time": "2018-05-04T15:59:38.640185Z"
    },
    "hidden": true,
    "nbpresent": {
     "id": "50079432-e9f9-4762-b957-b4d881f55fbc"
    }
   },
   "outputs": [],
   "source": [
    "l = {}\n",
    "for i, act in enumerate(acts):\n",
    "    l[act] = i\n",
    "print (l)\n",
    "\n",
    "dev = {}\n",
    "for i, d in enumerate(devices):\n",
    "    dev[d] = i\n",
    "print (dev)\n",
    "\n",
    "use = {}\n",
    "for i, u in enumerate(users):\n",
    "    use[u] = i\n",
    "print (use)"
   ]
  },
  {
   "cell_type": "code",
   "execution_count": null,
   "metadata": {
    "ExecuteTime": {
     "end_time": "2018-05-04T16:00:07.137358Z",
     "start_time": "2018-05-04T15:59:40.381677Z"
    },
    "hidden": true,
    "nbpresent": {
     "id": "3807f2a7-eddd-4a14-bd7a-fafe02779c30"
    }
   },
   "outputs": [],
   "source": [
    "devs, acc, labels = [], [], []\n",
    "\n",
    "for act in acts:\n",
    "    pa_act = pa[pa['gt'] == act]\n",
    "    for device in devices:\n",
    "        pa_dev = pa_act[(pa_act['Device'] == device)]\n",
    "        for user in users:\n",
    "            pa_user = pa_dev[pa_dev['User'] == user]\n",
    "            pa_user = pa_user[['x', 'y','z']]\n",
    "            if str(device) == 'nexus4_1' or str(device) == 'nexus4_2':\n",
    "                min_win = 400\n",
    "            elif str(device) == 's3_1' or str(device) == 's3_2':\n",
    "                min_win = 300\n",
    "            elif str(device) == 's3mini_1' or str(device) == 's3mini_2':\n",
    "                min_win = 200\n",
    "            else:\n",
    "                min_win = 100\n",
    "            if(pa_user.shape[0] >= min_win):\n",
    "                acc.append(pa_user.values)\n",
    "                devs.append(device)\n",
    "                labels.append(l[act])\n",
    "    print (f'{act} done')\n",
    "    \n",
    "acc = np.array(acc)\n",
    "labels = np.array(labels)\n",
    "devs = np.array(devs)\n",
    "print (\"Done\")\n",
    "\n",
    "print(acc.shape, labels.shape, devs.shape)"
   ]
  },
  {
   "cell_type": "code",
   "execution_count": null,
   "metadata": {
    "ExecuteTime": {
     "end_time": "2018-05-04T16:00:15.411962Z",
     "start_time": "2018-05-04T16:00:15.401347Z"
    },
    "hidden": true,
    "nbpresent": {
     "id": "4c76290e-9440-4a12-803e-80157705e47e"
    }
   },
   "outputs": [],
   "source": [
    "acc[390].shape"
   ]
  },
  {
   "cell_type": "markdown",
   "metadata": {
    "heading_collapsed": true,
    "nbpresent": {
     "id": "439cbde1-13d9-41b1-ab67-887ba5a49ee5"
    }
   },
   "source": [
    "# Getting the Windowed Data"
   ]
  },
  {
   "cell_type": "code",
   "execution_count": null,
   "metadata": {
    "ExecuteTime": {
     "end_time": "2018-05-04T16:00:25.254931Z",
     "start_time": "2018-05-04T16:00:25.232289Z"
    },
    "hidden": true,
    "nbpresent": {
     "id": "52c75edd-6a0f-4fa5-ad0b-c29b539fbe6d"
    }
   },
   "outputs": [],
   "source": [
    "def getWindowedData(index, w_min):\n",
    "    \n",
    "    windowData, windowLabels = [], []\n",
    "    num_windows = acc[index].shape[0] // w_min\n",
    "    if num_windows == 0:\n",
    "        print(acc[index].shape[0], w_min)\n",
    "    k = 0\n",
    "    for _ in range(num_windows):\n",
    "        windowData.append(acc[index][k:k+w_min])\n",
    "        k += w_min\n",
    "        windowLabels.append(labels[index])\n",
    "    return windowData, windowLabels"
   ]
  },
  {
   "cell_type": "code",
   "execution_count": null,
   "metadata": {
    "ExecuteTime": {
     "end_time": "2018-05-04T16:00:30.529137Z",
     "start_time": "2018-05-04T16:00:30.429212Z"
    },
    "hidden": true,
    "nbpresent": {
     "id": "6c89d9d8-dae6-4898-ad32-40d0b7917053"
    }
   },
   "outputs": [],
   "source": [
    "# Getting 2 seconds (100 samples) of data for all devices\n",
    "\n",
    "windowedData = []\n",
    "for i in range(len(acc)):\n",
    "    if str(devs[i]) == 'nexus4_1' or str(devs[i]) == 'nexus4_2':\n",
    "        w_min = 400\n",
    "    elif str(devs[i]) == 's3_1' or str(devs[i]) == 's3_2':\n",
    "        w_min = 300\n",
    "    elif str(devs[i]) == 's3mini_1' or str(devs[i]) == 's3mini_1':\n",
    "        w_min = 200\n",
    "    else:\n",
    "        w_min = 100\n",
    "    windowedData.append((getWindowedData(i, w_min)))"
   ]
  },
  {
   "cell_type": "code",
   "execution_count": null,
   "metadata": {
    "ExecuteTime": {
     "end_time": "2018-05-04T16:00:40.198464Z",
     "start_time": "2018-05-04T16:00:40.182201Z"
    },
    "hidden": true
   },
   "outputs": [],
   "source": [
    "np.array(windowedData).shape"
   ]
  },
  {
   "cell_type": "code",
   "execution_count": null,
   "metadata": {
    "ExecuteTime": {
     "end_time": "2018-05-04T16:00:53.817639Z",
     "start_time": "2018-05-04T16:00:53.802019Z"
    },
    "hidden": true,
    "nbpresent": {
     "id": "5172df05-8317-4274-99be-3b4db7061284"
    }
   },
   "outputs": [],
   "source": [
    "windowedData = np.array(windowedData)\n",
    "print (windowedData.shape)"
   ]
  },
  {
   "cell_type": "markdown",
   "metadata": {
    "heading_collapsed": true,
    "nbpresent": {
     "id": "b300d560-c6df-49a3-8801-3b85c227f5ad"
    }
   },
   "source": [
    "# Decimating the Windowed Data"
   ]
  },
  {
   "cell_type": "code",
   "execution_count": null,
   "metadata": {
    "ExecuteTime": {
     "end_time": "2018-05-04T16:01:08.889713Z",
     "start_time": "2018-05-04T16:01:08.652150Z"
    },
    "hidden": true,
    "nbpresent": {
     "id": "04404af5-cde3-4bdb-a732-3cce643f9422"
    }
   },
   "outputs": [],
   "source": [
    "def decimateThatSignal(i):\n",
    "    decimatedSignalData, decimatedSignalLabels = [], []\n",
    "    \n",
    "    if windowedData[i][0][0].shape[0] == 400:\n",
    "        for j in range(len(windowedData[i][0])):\n",
    "            decimatedX = decimate(windowedData[i][0][j][:,0], 4, zero_phase=True)\n",
    "            decimatedY = decimate(windowedData[i][0][j][:,1], 4, zero_phase=True)\n",
    "            decimatedZ = decimate(windowedData[i][0][j][:,2], 4, zero_phase=True)\n",
    "            decimatedSignal = np.dstack((decimatedX, decimatedY, decimatedZ))\n",
    "            decimatedSignalData.append(decimatedSignal)\n",
    "            decimatedSignalLabels.append(windowedData[i][1][j])\n",
    "        return np.array(decimatedSignalData), np.array(decimatedSignalLabels)\n",
    "    \n",
    "    elif windowedData[i][0][0].shape[0] == 300:\n",
    "        for j in range(len(windowedData[i][0])):\n",
    "            decimatedX = decimate(windowedData[i][0][j][:,0], 3, zero_phase=True)\n",
    "            decimatedY = decimate(windowedData[i][0][j][:,1], 3, zero_phase=True)\n",
    "            decimatedZ = decimate(windowedData[i][0][j][:,2], 3, zero_phase=True)\n",
    "            decimatedSignal = np.dstack((decimatedX, decimatedY, decimatedZ))\n",
    "            decimatedSignalData.append(decimatedSignal)\n",
    "            decimatedSignalLabels.append(windowedData[i][1][j])\n",
    "        return np.array(decimatedSignalData), np.array(decimatedSignalLabels)\n",
    "    \n",
    "    elif windowedData[i][0][0].shape[0] == 200:\n",
    "        for j in range(len(windowedData[i][0])):\n",
    "            decimatedX = decimate(windowedData[i][0][j][:,0], 2, zero_phase=True)\n",
    "            decimatedY = decimate(windowedData[i][0][j][:,1], 2, zero_phase=True)\n",
    "            decimatedZ = decimate(windowedData[i][0][j][:,2], 2, zero_phase=True)\n",
    "            decimatedSignal = np.dstack((decimatedX, decimatedY, decimatedZ))\n",
    "            decimatedSignalData.append(decimatedSignal)\n",
    "            decimatedSignalLabels.append(windowedData[i][1][j])\n",
    "        return np.array(decimatedSignalData), np.array(decimatedSignalLabels)\n",
    "    \n",
    "    else:\n",
    "        return np.array(windowedData[i][0]), np.array(windowedData[i][1])"
   ]
  },
  {
   "cell_type": "code",
   "execution_count": null,
   "metadata": {
    "ExecuteTime": {
     "end_time": "2018-05-04T16:01:10.742696Z",
     "start_time": "2018-05-04T16:01:10.391193Z"
    },
    "hidden": true,
    "nbpresent": {
     "id": "5cdd126d-745e-4ae9-88d1-955437304b9b"
    }
   },
   "outputs": [],
   "source": [
    "decimateThatSignal(0)[0].shape"
   ]
  },
  {
   "cell_type": "code",
   "execution_count": null,
   "metadata": {
    "ExecuteTime": {
     "end_time": "2018-05-04T16:03:11.893014Z",
     "start_time": "2018-05-04T16:01:25.741660Z"
    },
    "hidden": true,
    "nbpresent": {
     "id": "9c400b2c-2e57-4502-bb32-df3f4f70e1c1"
    }
   },
   "outputs": [],
   "source": [
    "w_min = 100\n",
    "\n",
    "decimatedData = decimateThatSignal(0)[0].reshape((-1, w_min, 3))\n",
    "decimatedLabels = decimateThatSignal(0)[1]\n",
    "for i in range(1, len(windowedData)):\n",
    "    print (i)\n",
    "    decimatedData = np.vstack((decimatedData, decimateThatSignal(i)[0].reshape((-1, w_min, 3))))\n",
    "    decimatedLabels = np.hstack((decimatedLabels, decimateThatSignal(i)[1]))\n",
    "decimatedData = np.array(decimatedData)\n",
    "decimatedLabels = np.array(decimatedLabels)"
   ]
  },
  {
   "cell_type": "code",
   "execution_count": null,
   "metadata": {
    "ExecuteTime": {
     "end_time": "2018-05-04T16:03:33.757577Z",
     "start_time": "2018-05-04T16:03:33.750966Z"
    },
    "hidden": true,
    "nbpresent": {
     "id": "0526b836-9b57-4d00-847e-e892d76b8d69"
    },
    "scrolled": true
   },
   "outputs": [],
   "source": [
    "print (decimatedData.shape, decimatedLabels.shape)"
   ]
  },
  {
   "cell_type": "markdown",
   "metadata": {
    "nbpresent": {
     "id": "c922ca6f-84d0-4669-89dc-189928d8827a"
    }
   },
   "source": [
    "# Getting the DWTed Data"
   ]
  },
  {
   "cell_type": "code",
   "execution_count": null,
   "metadata": {
    "ExecuteTime": {
     "end_time": "2018-05-04T16:03:58.493306Z",
     "start_time": "2018-05-04T16:03:58.483232Z"
    },
    "nbpresent": {
     "id": "733c86a8-d7f0-4775-a97c-d6ed1f90a25a"
    },
    "scrolled": true
   },
   "outputs": [],
   "source": [
    "pywt.wavelist()"
   ]
  },
  {
   "cell_type": "code",
   "execution_count": null,
   "metadata": {
    "ExecuteTime": {
     "end_time": "2018-05-04T16:04:01.813286Z",
     "start_time": "2018-05-04T16:04:01.808387Z"
    },
    "nbpresent": {
     "id": "594027c7-3e29-4d49-bb5d-0e495b66f643"
    }
   },
   "outputs": [],
   "source": [
    "# Change window size here as and when DWT wavelet changes\n",
    "\n",
    "w_min = 50+3"
   ]
  },
  {
   "cell_type": "code",
   "execution_count": null,
   "metadata": {
    "ExecuteTime": {
     "end_time": "2018-05-04T16:04:19.045177Z",
     "start_time": "2018-05-04T16:04:05.554843Z"
    },
    "nbpresent": {
     "id": "f0d58670-5053-4843-a860-2d4a5936604c"
    },
    "scrolled": true
   },
   "outputs": [],
   "source": [
    "DWTData = []\n",
    "for i in range(len(decimatedData)):\n",
    "    Xca, Xda = pywt.dwt(decimatedData[i].reshape((-1, 3))[:,0], wavelet='db4', mode='periodic')\n",
    "    Yca, Yda = pywt.dwt(decimatedData[i].reshape((-1, 3))[:,1], wavelet='db4', mode='periodic')\n",
    "    Zca, Zda = pywt.dwt(decimatedData[i].reshape((-1, 3))[:,2], wavelet='db4', mode='periodic')\n",
    "    coef = np.hstack((Xca, Yca, Zca)).reshape((-1, w_min, 3))\n",
    "    DWTData.append((coef, decimatedLabels[i]))\n",
    "    print (i)\n",
    "\n",
    "DWTData = np.array(DWTData)"
   ]
  },
  {
   "cell_type": "code",
   "execution_count": null,
   "metadata": {
    "ExecuteTime": {
     "end_time": "2018-05-04T16:04:36.732583Z",
     "start_time": "2018-05-04T16:04:36.727008Z"
    },
    "nbpresent": {
     "id": "aa0f6f43-0e0b-4f13-ae4d-59879b0a4c3f"
    }
   },
   "outputs": [],
   "source": [
    "print(DWTData.shape)"
   ]
  },
  {
   "cell_type": "code",
   "execution_count": null,
   "metadata": {
    "ExecuteTime": {
     "end_time": "2018-05-04T17:39:18.355263Z",
     "start_time": "2018-05-04T17:39:17.635966Z"
    },
    "nbpresent": {
     "id": "43099090-cb88-4df1-a75b-1ca2dc42be90"
    }
   },
   "outputs": [],
   "source": [
    "a = 46548\n",
    "a = 34509\n",
    "print (DWTData[a][0][0].shape)\n",
    "plt.plot(decimatedData[a])\n",
    "plt.ylabel('Inertial g-values')\n",
    "plt.xlabel(r'Data points in a single $w_a$')\n",
    "# plt.legend(['X-axis','Y-axis','Z-axis'],loc=1)\n",
    "plt.legend(['X-axis','Y-axis','Z-axis'],bbox_to_anchor=(0., 1.02, 1., .102), loc=1,ncol=3, mode=\"expand\", borderaxespad=0.)\n",
    "plt.savefig('plotBeforeDWT.png')\n",
    "plt.show()\n",
    "plt.plot(DWTData[a][0][0])\n",
    "plt.ylabel('Inertial g-values')\n",
    "plt.xlabel(r'Data points in a single $w_a$')\n",
    "plt.legend(['X-axis','Y-axis','Z-axis'],bbox_to_anchor=(0., 1.02, 1., .102), loc=1,ncol=3, mode=\"expand\", borderaxespad=0.)\n",
    "# plt.legend(['X-axis','Y-axis','Z-axis'],loc=1)\n",
    "plt.savefig('plotAfterDWT.png')\n",
    "plt.show()\n",
    "# np.save('beforeDWT',DWTData[a][0][0])\n",
    "# np.save('afterDWT',decimatedData[a])"
   ]
  },
  {
   "cell_type": "code",
   "execution_count": null,
   "metadata": {
    "ExecuteTime": {
     "end_time": "2018-04-07T15:55:51.210835Z",
     "start_time": "2018-04-07T15:55:51.017537Z"
    },
    "nbpresent": {
     "id": "007ce4f7-7fdd-4769-8b6f-cc38ce1b2305"
    }
   },
   "outputs": [],
   "source": [
    "labels = []\n",
    "data = np.zeros((DWTData.shape[0], 1, w_min, 3))\n",
    "for i in range(DWTData.shape[0]):\n",
    "    data[i, :, :] = DWTData[i][0][:]\n",
    "    labels.append(DWTData[i][1])\n",
    "    \n",
    "data = data.reshape((-1, w_min, 3)).astype('float32')\n",
    "labels = np.array(labels).astype('float32')\n",
    "\n",
    "print (data.shape, labels.shape)"
   ]
  },
  {
   "cell_type": "markdown",
   "metadata": {
    "nbpresent": {
     "id": "05b89f48-549a-49b6-8a72-68642291b167"
    }
   },
   "source": [
    "# Train-Test Split and Normalization"
   ]
  },
  {
   "cell_type": "code",
   "execution_count": null,
   "metadata": {
    "ExecuteTime": {
     "end_time": "2018-04-07T16:11:57.604549Z",
     "start_time": "2018-04-07T16:11:57.554547Z"
    },
    "nbpresent": {
     "id": "4f6646cd-3b7b-492c-b91c-fe8df6244884"
    }
   },
   "outputs": [],
   "source": [
    "Xtrain, Xtest, ytrain, ytest = train_test_split(data, labels, stratify=labels, test_size=0.2, random_state=5233)"
   ]
  },
  {
   "cell_type": "code",
   "execution_count": null,
   "metadata": {
    "ExecuteTime": {
     "end_time": "2018-04-07T16:11:58.249604Z",
     "start_time": "2018-04-07T16:11:58.242084Z"
    },
    "nbpresent": {
     "id": "e7f60310-5067-415b-b4be-60b7c836676a"
    }
   },
   "outputs": [],
   "source": [
    "# Run only once\n",
    "\n",
    "ytrain = to_categorical(ytrain, len(acts))\n",
    "ytest = to_categorical(ytest, len(acts))"
   ]
  },
  {
   "cell_type": "code",
   "execution_count": null,
   "metadata": {
    "ExecuteTime": {
     "end_time": "2018-04-07T16:11:59.859867Z",
     "start_time": "2018-04-07T16:11:59.853369Z"
    },
    "nbpresent": {
     "id": "7c0916d6-f28f-4abc-a7c6-bb7da479a76b"
    }
   },
   "outputs": [],
   "source": [
    "print (Xtrain.shape, Xtest.shape, ytrain.shape, ytest.shape)"
   ]
  },
  {
   "cell_type": "code",
   "execution_count": null,
   "metadata": {
    "ExecuteTime": {
     "end_time": "2018-04-07T16:12:00.364389Z",
     "start_time": "2018-04-07T16:12:00.310658Z"
    }
   },
   "outputs": [],
   "source": [
    "np.save('Xtrain_53.npy', Xtrain)\n",
    "np.save('Xtest_53.npy', Xtest)"
   ]
  },
  {
   "cell_type": "code",
   "execution_count": null,
   "metadata": {
    "ExecuteTime": {
     "end_time": "2018-04-07T16:12:00.720859Z",
     "start_time": "2018-04-07T16:12:00.716399Z"
    },
    "nbpresent": {
     "id": "f39fc31a-b726-43e4-85f9-ae0cfd8dcbac"
    }
   },
   "outputs": [],
   "source": [
    "# Delete if necessary\n",
    "\n",
    "# del acc, pa, windowedData, decimatedData, decimatedLabels, data, labels, DWTData"
   ]
  },
  {
   "cell_type": "code",
   "execution_count": null,
   "metadata": {
    "ExecuteTime": {
     "end_time": "2018-04-07T16:12:01.454908Z",
     "start_time": "2018-04-07T16:12:01.448193Z"
    },
    "nbpresent": {
     "id": "6f8b117c-fea5-49ab-bad5-1e7fa5489e65"
    }
   },
   "outputs": [],
   "source": [
    "Xtrain[:, :, 0].shape"
   ]
  },
  {
   "cell_type": "code",
   "execution_count": null,
   "metadata": {
    "ExecuteTime": {
     "end_time": "2018-04-07T15:55:59.099287Z",
     "start_time": "2018-04-07T15:55:58.968785Z"
    },
    "nbpresent": {
     "id": "c8f91160-5653-4075-a85c-eac1c4de6b1a"
    }
   },
   "outputs": [],
   "source": [
    "# Standard Scaler\n",
    "\n",
    "Xtrain_fit0 = StandardScaler().fit(Xtrain[:, :, 0])\n",
    "Xtrain0 = Xtrain_fit0.transform(Xtrain[:, :, 0])\n",
    "\n",
    "Xtrain_fit1 = StandardScaler().fit(Xtrain[:, :, 1])\n",
    "Xtrain1 = Xtrain_fit1.transform(Xtrain[:, :, 1])\n",
    "\n",
    "Xtrain_fit2 = StandardScaler().fit(Xtrain[:, :, 2])\n",
    "Xtrain2 = Xtrain_fit2.transform(Xtrain[:, :, 2])\n",
    "\n",
    "Xtest0 = Xtrain_fit0.transform(Xtest[:, :, 0])\n",
    "\n",
    "Xtest1 = Xtrain_fit1.transform(Xtest[:, :, 1])\n",
    "\n",
    "Xtest2 = Xtrain_fit2.transform(Xtest[:, :, 2])\n",
    "\n",
    "print (Xtrain0.shape, Xtest0.shape)"
   ]
  },
  {
   "cell_type": "code",
   "execution_count": null,
   "metadata": {
    "ExecuteTime": {
     "end_time": "2018-04-07T15:56:00.940363Z",
     "start_time": "2018-04-07T15:56:00.909772Z"
    },
    "nbpresent": {
     "id": "5207ba82-ae64-4005-90c1-a94779d0ffe3"
    }
   },
   "outputs": [],
   "source": [
    "X_train = np.dstack((Xtrain0, Xtrain1, Xtrain2))\n",
    "X_test = np.dstack((Xtest0, Xtest1, Xtest2))\n",
    "print (X_train.shape, X_test.shape)"
   ]
  },
  {
   "cell_type": "code",
   "execution_count": null,
   "metadata": {
    "ExecuteTime": {
     "end_time": "2018-04-07T15:56:01.325787Z",
     "start_time": "2018-04-07T15:56:01.321397Z"
    },
    "nbpresent": {
     "id": "700d7133-8a4e-4f7e-a5dd-534123a2f04d"
    }
   },
   "outputs": [],
   "source": [
    "del Xtrain0, Xtrain1, Xtrain2, Xtest0, Xtest1, Xtest2"
   ]
  },
  {
   "cell_type": "code",
   "execution_count": null,
   "metadata": {
    "ExecuteTime": {
     "end_time": "2018-04-07T15:56:01.769072Z",
     "start_time": "2018-04-07T15:56:01.754778Z"
    },
    "nbpresent": {
     "id": "055606f9-44d7-4732-ab71-866b00a4f9e3"
    }
   },
   "outputs": [],
   "source": [
    "print (np.min(X_train), np.max(X_train), np.min(X_test), np.max(X_test))"
   ]
  },
  {
   "cell_type": "code",
   "execution_count": null,
   "metadata": {
    "ExecuteTime": {
     "end_time": "2018-04-07T16:12:16.073126Z",
     "start_time": "2018-04-07T16:12:16.067105Z"
    },
    "nbpresent": {
     "id": "6ae7ac15-fb9e-437d-8bbf-2ef5be5b7b08"
    }
   },
   "outputs": [],
   "source": [
    "X_train = X_train.reshape((-1, w_min, 3, 1))\n",
    "X_test = X_test.reshape((-1, w_min, 3, 1))"
   ]
  },
  {
   "cell_type": "code",
   "execution_count": null,
   "metadata": {
    "ExecuteTime": {
     "end_time": "2018-04-07T16:12:16.473205Z",
     "start_time": "2018-04-07T16:12:16.464245Z"
    },
    "nbpresent": {
     "id": "2d615589-f296-4220-9099-90f5300a581c"
    }
   },
   "outputs": [],
   "source": [
    "print (X_train.shape)\n",
    "print (X_test.shape)\n",
    "print (ytrain.shape)\n",
    "print (ytest.shape)"
   ]
  },
  {
   "cell_type": "markdown",
   "metadata": {},
   "source": [
    "# Define params for model"
   ]
  },
  {
   "cell_type": "code",
   "execution_count": null,
   "metadata": {
    "ExecuteTime": {
     "end_time": "2018-04-07T16:12:19.381374Z",
     "start_time": "2018-04-07T16:12:19.376219Z"
    },
    "nbpresent": {
     "id": "10a8f7af-4cd0-410f-9411-904a296fd65f"
    }
   },
   "outputs": [],
   "source": [
    "num_classes = len(acts)\n",
    "learning_rate = 2e-4"
   ]
  },
  {
   "cell_type": "markdown",
   "metadata": {
    "nbpresent": {
     "id": "85f0b456-0789-4800-81bd-e2d407317235"
    }
   },
   "source": [
    "# Conv1D (Subnet) -> Conv2D"
   ]
  },
  {
   "cell_type": "code",
   "execution_count": null,
   "metadata": {
    "ExecuteTime": {
     "end_time": "2018-04-07T15:56:10.491059Z",
     "start_time": "2018-04-07T15:56:10.466103Z"
    },
    "nbpresent": {
     "id": "1f2a07d2-730a-47c4-97b3-93f99970792d"
    }
   },
   "outputs": [],
   "source": [
    "X_train0 = X_train[:, :, 0].reshape((-1, w_min, 1))\n",
    "X_train1 = X_train[:, :, 1].reshape((-1, w_min, 1))\n",
    "X_train2 = X_train[:, :, 2].reshape((-1, w_min, 1))\n",
    "\n",
    "X_test0 = X_test[:, :, 0].reshape((-1, w_min, 1))\n",
    "X_test1 = X_test[:, :, 1].reshape((-1, w_min, 1))\n",
    "X_test2 = X_test[:, :, 2].reshape((-1, w_min, 1))\n",
    "\n",
    "print (X_train0.shape, X_test0.shape)"
   ]
  },
  {
   "cell_type": "code",
   "execution_count": null,
   "metadata": {
    "ExecuteTime": {
     "end_time": "2018-04-07T15:56:12.893069Z",
     "start_time": "2018-04-07T15:56:11.972522Z"
    },
    "nbpresent": {
     "id": "390c30be-a88a-4869-a27a-31bd531cd38c"
    }
   },
   "outputs": [],
   "source": [
    "inputX = Input(shape=(X_train0.shape[1], X_train0.shape[2]))\n",
    "\n",
    "convX1 = Conv1D(filters=8, kernel_size=2, padding='causal', activation='relu')(inputX)\n",
    "batchX1 = BatchNormalization()(convX1)\n",
    "poolX1 = MaxPooling1D(pool_size=2, padding='same')(batchX1)\n",
    "\n",
    "convX2 = Conv1D(filters=16, kernel_size=2, padding='causal', activation='relu')(poolX1)\n",
    "batchX2 = BatchNormalization()(convX2)\n",
    "poolX2 = MaxPooling1D(pool_size=2, padding='same')(batchX2)\n",
    "\n",
    "# convX3 = Conv1D(filters=128, kernel_size=2, padding='causal', activation='relu')(poolX2)\n",
    "# batchX3 = BatchNormalization()(convX3)\n",
    "# poolX3 = MaxPooling1D(pool_size=2, padding='same')(batchX3)\n",
    "\n",
    "modelX = Flatten()(poolX2)\n",
    "\n",
    "inputY = Input(shape=(X_train1.shape[1], X_train2.shape[2]))\n",
    "\n",
    "convY1 = Conv1D(filters=8, kernel_size=2, padding='causal', activation='relu')(inputY)\n",
    "batchY1 = BatchNormalization()(convY1)\n",
    "poolY1 = MaxPooling1D(pool_size=2, padding='same')(batchY1)\n",
    "\n",
    "convY2 = Conv1D(filters=16, kernel_size=2, padding='causal', activation='relu')(poolY1)\n",
    "batchY2 = BatchNormalization()(convY2)\n",
    "poolY2 = MaxPooling1D(pool_size=2, padding='same')(batchY2)\n",
    "\n",
    "# convY3 = Conv1D(filters=128, kernel_size=2, padding='causal', activation='relu')(poolY2)\n",
    "# batchY3 = BatchNormalization()(convY3)\n",
    "# poolY3 = MaxPooling1D(pool_size=2, padding='same')(batchY3)\n",
    "\n",
    "modelY = Flatten()(poolY2)\n",
    "\n",
    "inputZ = Input(shape=(X_train2.shape[1], X_train2.shape[2]))\n",
    "\n",
    "convZ1 = Conv1D(filters=8, kernel_size=2, padding='causal', activation='relu')(inputZ)\n",
    "batchZ1 = BatchNormalization()(convZ1)\n",
    "poolZ1 = MaxPooling1D(pool_size=2, padding='same')(batchZ1)\n",
    "\n",
    "convZ2 = Conv1D(filters=16, kernel_size=5, padding='causal', activation='relu')(poolZ1)\n",
    "batchZ2 = BatchNormalization()(convZ2)\n",
    "poolZ2 = MaxPooling1D(pool_size=2, padding='same')(batchZ2)\n",
    "\n",
    "# convZ3 = Conv1D(filters=128, kernel_size=2, padding='causal', activation='relu')(poolZ2)\n",
    "# batchZ3 = BatchNormalization()(convZ3)\n",
    "# poolZ3 = MaxPooling1D(pool_size=2, padding='same')(batchZ3)\n",
    "\n",
    "modelZ = Flatten()(poolZ2)"
   ]
  },
  {
   "cell_type": "code",
   "execution_count": null,
   "metadata": {
    "ExecuteTime": {
     "end_time": "2018-04-07T15:56:13.154811Z",
     "start_time": "2018-04-07T15:56:12.895208Z"
    },
    "nbpresent": {
     "id": "3bdf5e7d-0eb6-4a0c-9683-9cea7374619f"
    }
   },
   "outputs": [],
   "source": [
    "merged_model = merge([modelX, modelY, modelZ], mode='concat')\n",
    "print (K.int_shape(merged_model))\n",
    "\n",
    "final_merge = Reshape((K.int_shape(merged_model)[1]//3, 3, 1))(merged_model)\n",
    "print (K.int_shape(final_merge))\n",
    "\n",
    "conv1 = Conv2D(filters=8, kernel_size=(3, 3), padding='same')(final_merge)\n",
    "batch1 = BatchNormalization()(conv1)\n",
    "pool1 = MaxPooling2D(pool_size=(2, 2), padding='same')(batch1)\n",
    "\n",
    "conv2 = Conv2D(filters=16, kernel_size=(3, 3), padding='same')(pool1)\n",
    "batch2 = BatchNormalization()(conv2)\n",
    "pool2 = MaxPooling2D(pool_size=(2, 2), padding='same')(batch2)\n",
    "\n",
    "flatten = Flatten()(pool2)\n",
    "\n",
    "# fc1 = Dense(128, activation='relu')(flatten)\n",
    "# fc1 = Dropout(0.25)(fc1)\n",
    "# fc2 = Dense(64, activation='relu')(flatten)\n",
    "# fc2 = Dropout(0.4)(fc2)\n",
    "fc1 = Dense(32, activation='relu', kernel_initializer='glorot_normal')(flatten)\n",
    "fc1 = Dropout(0.25)(fc1)\n",
    "\n",
    "output = Dense(num_classes, activation='softmax')(fc1)\n",
    "\n",
    "model = Model([inputX, inputY, inputZ], output)"
   ]
  },
  {
   "cell_type": "code",
   "execution_count": null,
   "metadata": {
    "ExecuteTime": {
     "end_time": "2018-04-07T15:56:14.114176Z",
     "start_time": "2018-04-07T15:56:14.101816Z"
    },
    "nbpresent": {
     "id": "93abc045-8b87-41c5-a4a3-484878d1c99e"
    },
    "scrolled": true
   },
   "outputs": [],
   "source": [
    "model.summary()"
   ]
  },
  {
   "cell_type": "code",
   "execution_count": null,
   "metadata": {
    "ExecuteTime": {
     "end_time": "2018-04-07T15:56:16.271776Z",
     "start_time": "2018-04-07T15:56:16.175874Z"
    },
    "nbpresent": {
     "id": "7fcc6dba-09ba-4eab-91f4-4d3deb64c32c"
    }
   },
   "outputs": [],
   "source": [
    "model.compile(loss='categorical_crossentropy', optimizer=keras.optimizers.Adam(lr=learning_rate), metrics=['accuracy']) #beta_1=0.9, beta_2=0.999))"
   ]
  },
  {
   "cell_type": "code",
   "execution_count": null,
   "metadata": {
    "ExecuteTime": {
     "end_time": "2018-04-07T16:07:29.102298Z",
     "start_time": "2018-04-07T16:02:39.983570Z"
    },
    "nbpresent": {
     "id": "cd2c5211-d137-4aa4-bfed-9b13e0de508d"
    },
    "scrolled": true
   },
   "outputs": [],
   "source": [
    "filepath = \"bestWeightsHeterogeneityMixed1D.h5\"\n",
    "checkpoint = ModelCheckpoint(filepath, monitor='val_acc', save_best_only=True, mode='max')\n",
    "callback = [checkpoint]\n",
    "\n",
    "model.fit([X_train0, X_train1, X_train2], ytrain, epochs=35, batch_size=128, \\\n",
    "          validation_data=([X_test0, X_test1, X_test2], ytest), callbacks=callback)"
   ]
  },
  {
   "cell_type": "code",
   "execution_count": null,
   "metadata": {
    "nbpresent": {
     "id": "04e118a3-6b1b-40e0-ab4c-e3a144d751eb"
    },
    "scrolled": true
   },
   "outputs": [],
   "source": [
    "model.fit([X_train0, X_train1, X_train2], ytrain, epochs=30, batch_size=128, \\\n",
    "          validation_data=([X_test0, X_test1, X_test2], ytest))#, callbacks=callback)"
   ]
  },
  {
   "cell_type": "markdown",
   "metadata": {
    "heading_collapsed": true,
    "nbpresent": {
     "id": "a5bbf217-02f1-4c39-97f5-cae3f2f92573"
    }
   },
   "source": [
    "# LSTM -> Conv1D (Subnet) -> Conv2D"
   ]
  },
  {
   "cell_type": "code",
   "execution_count": null,
   "metadata": {
    "hidden": true,
    "nbpresent": {
     "id": "ad2cfceb-9592-4068-adfc-e0002a06d68c"
    }
   },
   "outputs": [],
   "source": [
    "X_train0 = X_train[:, :, 0].reshape((-1, w_min, 1))\n",
    "X_train1 = X_train[:, :, 1].reshape((-1, w_min, 1))\n",
    "X_train2 = X_train[:, :, 2].reshape((-1, w_min, 1))\n",
    "\n",
    "X_test0 = X_test[:, :, 0].reshape((-1, w_min, 1))\n",
    "X_test1 = X_test[:, :, 1].reshape((-1, w_min, 1))\n",
    "X_test2 = X_test[:, :, 2].reshape((-1, w_min, 1))\n",
    "\n",
    "print (X_train1.shape, X_test1.shape)"
   ]
  },
  {
   "cell_type": "code",
   "execution_count": null,
   "metadata": {
    "ExecuteTime": {
     "end_time": "2018-03-29T16:09:34.952919Z",
     "start_time": "2018-03-29T16:09:33.039851Z"
    },
    "hidden": true,
    "nbpresent": {
     "id": "e41f8289-7207-4c29-8fd3-3558e33c67fb"
    }
   },
   "outputs": [],
   "source": [
    "# Subnet X\n",
    "\n",
    "inputX = Input(shape=(53, 1))\n",
    "#inputX = Input(shape=(X_train0.shape[1], X_train0.shape[2]))\n",
    "\n",
    "lstmX = LSTM(32, return_sequences=True)(inputX)\n",
    "\n",
    "convX1 = Conv1D(filters=8, kernel_size=5, padding='causal', activation='relu')(lstmX)\n",
    "batchX1 = BatchNormalization()(convX1)\n",
    "poolX1 = MaxPooling1D(pool_size=2, padding='same')(batchX1)\n",
    "\n",
    "modelX = poolX1\n",
    "\n",
    "# Subnet Y\n",
    "\n",
    "inputY = Input(shape=(53, 1))\n",
    "#inputY = Input(shape=(X_train1.shape[1], X_train1.shape[2]))\n",
    "\n",
    "lstmY = LSTM(32, return_sequences=True)(inputY)\n",
    "\n",
    "convY1 = Conv1D(filters=8, kernel_size=5, padding='causal', activation='relu')(lstmY)\n",
    "batchY1 = BatchNormalization()(convY1)\n",
    "poolY1 = MaxPooling1D(pool_size=2, padding='same')(batchY1)\n",
    "\n",
    "modelY = poolY1\n",
    "\n",
    "# Subnet Z\n",
    "\n",
    "inputZ = Input(shape=(53, 1))\n",
    "#inputZ = Input(shape=(X_train2.shape[1], X_train2.shape[2]))\n",
    "\n",
    "lstmZ = LSTM(32, return_sequences=True)(inputZ)\n",
    "\n",
    "convZ1 = Conv1D(filters=8, kernel_size=5, padding='causal', activation='relu')(lstmZ)\n",
    "batchZ1 = BatchNormalization()(convZ1)\n",
    "poolZ1 = MaxPooling1D(pool_size=2, padding='same')(batchZ1)\n",
    "\n",
    "modelZ = poolZ1"
   ]
  },
  {
   "cell_type": "code",
   "execution_count": null,
   "metadata": {
    "ExecuteTime": {
     "end_time": "2018-03-29T16:09:42.549077Z",
     "start_time": "2018-03-29T16:09:42.138431Z"
    },
    "hidden": true,
    "nbpresent": {
     "id": "068601bc-fdb4-4dab-a495-96f2c1539c9b"
    }
   },
   "outputs": [],
   "source": [
    "merged_model = merge([modelX, modelY, modelZ], mode='concat')\n",
    "print (K.int_shape(merged_model))\n",
    "\n",
    "# final_merge = Reshape((K.int_shape(merged_model)[1]//3, 3, 1))(merged_model)\n",
    "final_merge = Reshape((K.int_shape(merged_model)[1], K.int_shape(merged_model)[2], 1))(merged_model)\n",
    "print (K.int_shape(final_merge))\n",
    "\n",
    "conv1 = Conv2D(filters=8, kernel_size=(3, 3), padding='same')(final_merge)\n",
    "batch1 = BatchNormalization()(conv1)\n",
    "pool1 = MaxPooling2D(pool_size=(3, 2), padding='same')(batch1)\n",
    "\n",
    "conv2 = Conv2D(filters=16, kernel_size=(3, 3), padding='same')(pool1)\n",
    "batch2 = BatchNormalization()(conv2)\n",
    "pool2 = MaxPooling2D(pool_size=(3, 2), padding='same')(batch2)\n",
    "\n",
    "flatten = Flatten()(pool2)\n",
    "\n",
    "fc1 = Dense(16, activation='relu')(flatten)\n",
    "fc1 = Dropout(0.25)(fc1)\n",
    "fc2 = Dense(8, activation='relu')(fc1)\n",
    "# fc2 = Dropout(0.25)(fc2)\n",
    "# fc3 = Dense(32, activation='relu')(fc2)\n",
    "# fc3 = Dropout(0.4)(fc3)\n",
    "\n",
    "output = Dense(6, activation='softmax')(fc2)\n",
    "\n",
    "model = Model([inputX, inputY, inputZ], output)"
   ]
  },
  {
   "cell_type": "code",
   "execution_count": null,
   "metadata": {
    "ExecuteTime": {
     "end_time": "2018-03-29T16:10:01.690864Z",
     "start_time": "2018-03-29T16:10:01.673785Z"
    },
    "hidden": true,
    "nbpresent": {
     "id": "f1a08021-d6fb-4626-b845-a62faf9d7ea0"
    },
    "scrolled": false
   },
   "outputs": [],
   "source": [
    "model.summary()"
   ]
  },
  {
   "cell_type": "code",
   "execution_count": null,
   "metadata": {
    "hidden": true,
    "nbpresent": {
     "id": "08462a82-0105-4b21-b6bf-e2a62209bdb7"
    }
   },
   "outputs": [],
   "source": [
    "model.compile(loss='categorical_crossentropy', optimizer=keras.optimizers.Adam(learning_rate), metrics=['accuracy']) #beta_1=0.9, beta_2=0.999))"
   ]
  },
  {
   "cell_type": "code",
   "execution_count": null,
   "metadata": {
    "hidden": true,
    "nbpresent": {
     "id": "9648ddb8-87df-452f-b365-e4c6ab68a7ae"
    },
    "scrolled": false
   },
   "outputs": [],
   "source": [
    "filepath = \"bestWeightsHeterogeneityMixedLSTM1D.h5\"\n",
    "checkpoint = ModelCheckpoint(filepath, monitor='val_acc', save_best_only=True, mode='max')\n",
    "callback = [checkpoint]\n",
    "\n",
    "model.fit([X_train0, X_train1, X_train2], ytrain, epochs=15, batch_size=128, \\\n",
    "          validation_data=([X_test0, X_test1, X_test2], ytest), callbacks=callback)"
   ]
  },
  {
   "cell_type": "code",
   "execution_count": null,
   "metadata": {
    "hidden": true,
    "nbpresent": {
     "id": "7c0ec29f-85b5-4b60-9483-b6c761801de8"
    }
   },
   "outputs": [],
   "source": [
    "model.fit([X_train0, X_train1, X_train2], ytrain, epochs=15, batch_size=128, \\\n",
    "          validation_data=([X_test0, X_test1, X_test2], ytest))#, callbacks=callback)"
   ]
  },
  {
   "cell_type": "markdown",
   "metadata": {
    "heading_collapsed": true,
    "nbpresent": {
     "id": "93036fe0-2ebc-4283-8655-0fa9da98beef"
    }
   },
   "source": [
    "# Conv1D -> LSTM (Subnet) -> Conv2D"
   ]
  },
  {
   "cell_type": "code",
   "execution_count": null,
   "metadata": {
    "hidden": true,
    "nbpresent": {
     "id": "3dcc2e0f-1747-43fa-8569-fcb561aa4755"
    }
   },
   "outputs": [],
   "source": [
    "X_train0 = X_train[:, :, 0].reshape((-1, w_min, 1))\n",
    "X_train1 = X_train[:, :, 1].reshape((-1, w_min, 1))\n",
    "X_train2 = X_train[:, :, 2].reshape((-1, w_min, 1))\n",
    "\n",
    "X_test0 = X_test[:, :, 0].reshape((-1, w_min, 1))\n",
    "X_test1 = X_test[:, :, 1].reshape((-1, w_min, 1))\n",
    "X_test2 = X_test[:, :, 2].reshape((-1, w_min, 1))\n",
    "\n",
    "print (X_train1.shape, X_test1.shape)"
   ]
  },
  {
   "cell_type": "code",
   "execution_count": null,
   "metadata": {
    "hidden": true,
    "nbpresent": {
     "id": "dfac6ace-d46e-48e0-89b5-fabf7a819c5f"
    }
   },
   "outputs": [],
   "source": [
    "# Subnet X\n",
    "\n",
    "inputX = Input(shape=(X_train0.shape[1], X_train0.shape[2]))\n",
    "\n",
    "convX1 = Conv1D(filters=8, kernel_size=3, padding='causal', activation='relu')(inputX)\n",
    "batchX1 = BatchNormalization()(convX1)\n",
    "poolX1 = MaxPooling1D(pool_size=2, padding='same')(batchX1)\n",
    "\n",
    "lstmX = LSTM(32, return_sequences=True)(poolX1)\n",
    "\n",
    "\n",
    "modelX = lstmX\n",
    "\n",
    "# Subnet Y\n",
    "\n",
    "inputY = Input(shape=(X_train1.shape[1], X_train1.shape[2]))\n",
    "\n",
    "convY1 = Conv1D(filters=8, kernel_size=3, padding='causal', activation='relu')(inputY)\n",
    "batchY1 = BatchNormalization()(convY1)\n",
    "poolY1 = MaxPooling1D(pool_size=2, padding='same')(batchY1)\n",
    "\n",
    "lstmY = LSTM(32, return_sequences=True)(poolY1)\n",
    "\n",
    "modelY = lstmX\n",
    "\n",
    "# Subnet Z\n",
    "\n",
    "inputZ = Input(shape=(X_train2.shape[1], X_train2.shape[2]))\n",
    "\n",
    "convZ1 = Conv1D(filters=8, kernel_size=3, padding='causal', activation='relu')(inputZ)\n",
    "batchZ1 = BatchNormalization()(convZ1)\n",
    "poolZ1 = MaxPooling1D(pool_size=2, padding='same')(batchZ1)\n",
    "\n",
    "lstmZ = LSTM(32, return_sequences=True)(poolZ1)\n",
    "\n",
    "modelZ = poolZ1"
   ]
  },
  {
   "cell_type": "code",
   "execution_count": null,
   "metadata": {
    "hidden": true,
    "nbpresent": {
     "id": "a4462500-ba68-4698-ace7-ac996f4e306a"
    }
   },
   "outputs": [],
   "source": [
    "merged_model = merge([modelX, modelY, modelZ], mode='concat')\n",
    "print (K.int_shape(merged_model))\n",
    "\n",
    "# final_merge = Reshape((K.int_shape(merged_model)[1]//3, 3, 1))(merged_model)\n",
    "final_merge = Reshape((K.int_shape(merged_model)[1], K.int_shape(merged_model)[2], 1))(merged_model)\n",
    "print (K.int_shape(final_merge))\n",
    "\n",
    "conv1 = Conv2D(filters=8, kernel_size=(2, 2), padding='same')(final_merge)\n",
    "batch1 = BatchNormalization()(conv1)\n",
    "pool1 = MaxPooling2D(pool_size=(2, 2), padding='same')(batch1)\n",
    "\n",
    "conv2 = Conv2D(filters=16, kernel_size=(2, 2), padding='same')(pool1)\n",
    "batch2 = BatchNormalization()(conv2)\n",
    "pool2 = MaxPooling2D(pool_size=(2, 2), padding='same')(batch2)\n",
    "\n",
    "conv3 = Conv2D(filters=16, kernel_size=(2, 2), padding='same')(pool2)\n",
    "batch3 = BatchNormalization()(conv3)\n",
    "pool3 = MaxPooling2D(pool_size=(2, 2), padding='same')(batch3)\n",
    "\n",
    "flatten = Flatten()(pool3)\n",
    "\n",
    "fc1 = Dense(16, activation='relu')(flatten)\n",
    "fc1 = Dropout(0.25)(fc1)\n",
    "fc2 = Dense(8, activation='relu')(fc1)\n",
    "# fc2 = Dropout(0.25)(fc2)\n",
    "# fc3 = Dense(32, activation='relu')(fc2)\n",
    "# fc3 = Dropout(0.4)(fc3)\n",
    "\n",
    "output = Dense(num_classes, activation='softmax')(fc2)\n",
    "\n",
    "model = Model([inputX, inputY, inputZ], output)"
   ]
  },
  {
   "cell_type": "code",
   "execution_count": null,
   "metadata": {
    "hidden": true,
    "nbpresent": {
     "id": "ba4ee43d-5cf0-4497-8ebc-4a49aa9a0193"
    }
   },
   "outputs": [],
   "source": [
    "model.summary()"
   ]
  },
  {
   "cell_type": "code",
   "execution_count": null,
   "metadata": {
    "hidden": true,
    "nbpresent": {
     "id": "52c852ee-0265-411a-9b81-91c39e458601"
    }
   },
   "outputs": [],
   "source": [
    "model.compile(loss='categorical_crossentropy', optimizer=keras.optimizers.Adam(learning_rate), metrics=['accuracy']) #beta_1=0.9, beta_2=0.999))"
   ]
  },
  {
   "cell_type": "code",
   "execution_count": null,
   "metadata": {
    "hidden": true,
    "nbpresent": {
     "id": "fa145c25-514e-423d-9819-8668aa5e81f7"
    }
   },
   "outputs": [],
   "source": [
    "filepath = \"bestWeightsHeterogeneityMixed1DLSTM.h5\"\n",
    "checkpoint = ModelCheckpoint(filepath, monitor='val_acc', save_best_only=True, mode='max')\n",
    "callback = [checkpoint]\n",
    "\n",
    "model.fit([X_train0, X_train1, X_train2], ytrain, epochs=15, batch_size=128, \\\n",
    "          validation_data=([X_test0, X_test1, X_test2], ytest), callbacks=callback)"
   ]
  },
  {
   "cell_type": "code",
   "execution_count": null,
   "metadata": {
    "hidden": true,
    "nbpresent": {
     "id": "a1c1bec1-01f2-4fd2-97ae-75e945f1a732"
    }
   },
   "outputs": [],
   "source": [
    "model.fit([X_train0, X_train1, X_train2], ytrain, epochs=15, batch_size=128, \\\n",
    "          validation_data=([X_test0, X_test1, X_test2], ytest))#, callbacks=callback)"
   ]
  },
  {
   "cell_type": "code",
   "execution_count": null,
   "metadata": {
    "hidden": true
   },
   "outputs": [],
   "source": [
    "model.fit([X_train0, X_train1, X_train2], ytrain, epochs=15, batch_size=128, \\\n",
    "          validation_data=([X_test0, X_test1, X_test2], ytest))#, callbacks=callback)"
   ]
  },
  {
   "cell_type": "markdown",
   "metadata": {
    "nbpresent": {
     "id": "82f5fda9-37f2-4baf-83ab-03b7fb508ef9"
    }
   },
   "source": [
    "# Predictions and Confusion Matrix"
   ]
  },
  {
   "cell_type": "code",
   "execution_count": null,
   "metadata": {
    "ExecuteTime": {
     "end_time": "2018-04-07T16:09:50.165085Z",
     "start_time": "2018-04-07T16:09:48.291045Z"
    },
    "nbpresent": {
     "id": "7f48069b-c623-44cb-a162-e5e1bbce67b8"
    }
   },
   "outputs": [],
   "source": [
    "# yPred = model.predict_classes(X_test)\n",
    "y_prob = model.predict([X_test0, X_test1, X_test2]) \n",
    "yPred = y_prob.argmax(axis=-1)"
   ]
  },
  {
   "cell_type": "code",
   "execution_count": null,
   "metadata": {
    "ExecuteTime": {
     "end_time": "2018-04-07T16:09:51.384795Z",
     "start_time": "2018-04-07T16:09:51.343176Z"
    },
    "nbpresent": {
     "id": "26243e06-ce54-429d-87c3-8490a49fc5a3"
    }
   },
   "outputs": [],
   "source": [
    "yTrue = [np.argmax(y) for y in ytest]"
   ]
  },
  {
   "cell_type": "code",
   "execution_count": null,
   "metadata": {
    "ExecuteTime": {
     "end_time": "2018-04-07T16:09:52.886075Z",
     "start_time": "2018-04-07T16:09:52.878339Z"
    },
    "nbpresent": {
     "id": "3a5b78fb-55da-40c9-969b-5f8eb9b38fcb"
    }
   },
   "outputs": [],
   "source": [
    "print (yPred[:20])\n",
    "print (yTrue[:20])"
   ]
  },
  {
   "cell_type": "code",
   "execution_count": null,
   "metadata": {
    "ExecuteTime": {
     "end_time": "2018-04-07T16:09:55.717802Z",
     "start_time": "2018-04-07T16:09:55.701743Z"
    }
   },
   "outputs": [],
   "source": [
    "f1 = f1_score(yTrue, yPred, average = 'weighted')"
   ]
  },
  {
   "cell_type": "code",
   "execution_count": null,
   "metadata": {
    "ExecuteTime": {
     "end_time": "2018-04-07T16:09:56.417024Z",
     "start_time": "2018-04-07T16:09:56.412027Z"
    }
   },
   "outputs": [],
   "source": [
    "print (f1)"
   ]
  },
  {
   "cell_type": "code",
   "execution_count": null,
   "metadata": {
    "ExecuteTime": {
     "end_time": "2018-04-07T16:09:58.876958Z",
     "start_time": "2018-04-07T16:09:58.856957Z"
    },
    "nbpresent": {
     "id": "42261a71-509f-46f3-94c3-ff4bff3a0538"
    }
   },
   "outputs": [],
   "source": [
    "print (classification_report(yTrue, yPred, digits=4))"
   ]
  },
  {
   "cell_type": "code",
   "execution_count": null,
   "metadata": {
    "ExecuteTime": {
     "end_time": "2018-04-07T16:10:02.241421Z",
     "start_time": "2018-04-07T16:10:02.211190Z"
    },
    "nbpresent": {
     "id": "d63e28a5-61c4-42a8-80e5-56ed903edd62"
    }
   },
   "outputs": [],
   "source": [
    "conf_matrix = confusion_matrix(yTrue, yPred)#, labels=[0,1,2,3,4,5])\n",
    "print (conf_matrix)"
   ]
  },
  {
   "cell_type": "code",
   "execution_count": null,
   "metadata": {
    "ExecuteTime": {
     "end_time": "2018-04-07T16:10:08.224953Z",
     "start_time": "2018-04-07T16:10:07.711706Z"
    },
    "nbpresent": {
     "id": "69be2c8a-2c5e-4279-a53b-2ad2c93c38b4"
    }
   },
   "outputs": [],
   "source": [
    "df_conf_matrix = pd.DataFrame(conf_matrix, index=list(acts), columns=list(acts))\n",
    "plt.figure(figsize = (8, 8))\n",
    "conf_heatmap = sn.heatmap(conf_matrix, annot=True, fmt='g', xticklabels=list(acts), yticklabels=list(acts))\n",
    "fig = conf_heatmap.get_figure()"
   ]
  },
  {
   "cell_type": "code",
   "execution_count": null,
   "metadata": {},
   "outputs": [],
   "source": []
  }
 ],
 "metadata": {
  "kernelspec": {
   "display_name": "Python 3",
   "language": "python",
   "name": "python3"
  },
  "language_info": {
   "codemirror_mode": {
    "name": "ipython",
    "version": 3
   },
   "file_extension": ".py",
   "mimetype": "text/x-python",
   "name": "python",
   "nbconvert_exporter": "python",
   "pygments_lexer": "ipython3",
   "version": "3.6.5"
  }
 },
 "nbformat": 4,
 "nbformat_minor": 2
}
